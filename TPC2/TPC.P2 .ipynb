{
 "cells": [
  {
   "cell_type": "code",
   "execution_count": null,
   "metadata": {},
   "outputs": [],
   "source": [
    "import random\n",
    "\n",
    "print(\"------MENU-------\")\n",
    "print(\"1. Modalidade Computador\")\n",
    "print(\"2. Modalidade Utilizador\")\n",
    "\n",
    "opc_menu= int(input(\"insira a modalidade\"))\n",
    "num_tentativas= 0\n",
    "\n",
    "if opc_menu==1:\n",
    "    Num_pc= (random.randrange(1,101))\n",
    "    \n",
    "    print(\"adivinha o número\")\n",
    "    Num_escolhido_utilizador= int(input())\n",
    "    \n",
    "    while (Num_escolhido_utilizador!=Num_pc):\n",
    "        if (Num_escolhido_utilizador > Num_pc):\n",
    "            print(\"O numero que pensei é menor. Tenta outra vez.\")\n",
    "            Num_escolhido_utilizador = int(input())\n",
    "            \n",
    "        elif(Num_escolhido_utilizador < Num_pc):\n",
    "            print(\"O numero que pensei é maior. Tenta outra vez.\")\n",
    "            Num_escolhido_utilizador = int(input())\n",
    "        \n",
    "        num_tentativas = num_tentativas +1\n",
    "            \n",
    "    print(\"Numero encontrado\",Num_escolhido_utilizador,\"com\",num_tentativas,\"tentativas\")\n",
    "    \n",
    "elif opc_menu == 2:\n",
    "    print(\"Pensa num número de 0 a 100\")\n",
    "    Num_utilizador = int(input())\n",
    "    Num_escolhido_pc = (random.randrange(1,101))\n",
    "    print(\"o computador escolheu o\", Num_escolhido_pc)\n",
    "    \n",
    "    while(Num_escolhido_pc!=Num_utilizador):\n",
    "        if(Num_escolhido_pc>Num_utilizador):\n",
    "            print(\"o número que o computador pensou é maior\")\n",
    "            Num_escolhido_pc= (random.randrange(1,Num_escolhido_pc))\n",
    "            print(\"Novo número escolhido\",Num_escolhido_pc)\n",
    "            \n",
    "        elif(Num_escolhido_pc<Num_utilizador):\n",
    "            print(\"o número que o computador pensou é menor\")\n",
    "            Num_escolhido_pc= (random.randrange(Num_escolhido_pc , 101))\n",
    "            print(\"Novo numero escolhido\",Num_escolhido_pc) \n",
    "        \n",
    "        num_tentativas = num_tentativas +1     \n",
    "                     \n",
    "    print(\"Número encontrado:\",Num_escolhido_pc,\",com\",num_tentativas,\"tentativas\")\n",
    "   \n",
    "    "
   ]
  }
 ],
 "metadata": {
  "kernelspec": {
   "display_name": "Python 3.10.7 64-bit",
   "language": "python",
   "name": "python3"
  },
  "language_info": {
   "codemirror_mode": {
    "name": "ipython",
    "version": 3
   },
   "file_extension": ".py",
   "mimetype": "text/x-python",
   "name": "python",
   "nbconvert_exporter": "python",
   "pygments_lexer": "ipython3",
   "version": "3.10.7"
  },
  "orig_nbformat": 4,
  "vscode": {
   "interpreter": {
    "hash": "df653aeecbf9c1d13bdbc3a51c2aa8264472cef0f2d1c83a4798c64fc2d3bb53"
   }
  }
 },
 "nbformat": 4,
 "nbformat_minor": 2
}
