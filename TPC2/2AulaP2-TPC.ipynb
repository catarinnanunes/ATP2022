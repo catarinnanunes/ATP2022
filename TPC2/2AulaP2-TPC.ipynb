{
 "cells": [
  {
   "cell_type": "markdown",
   "id": "81703f1b",
   "metadata": {},
   "source": [
    "### TPC2: Adivinha o número\n",
    "- Crie um programa em Python para jogar o jogo \"Adivinha o número\":\n",
    "    - O jogo pode ter 2 modalidades: computador pensa num número (entre 0 e 100), utilizador tenta adivinhar; ou, o utilizador pensa num número (entre 0 e 100) e o computador tenta adivinhar;\n",
    "    - Quem tenta adivinhar responde com uma das afirmações: \"Acertou\", \"O número que pensei é Maior\" ou \"O número que pensei é Menor\";\n",
    "    - Uma vez descoberto o número o programa deverá terminar imprimindo o número de tentativas que quem adivinhou usou para chegar ao resultado."
   ]
  },
  {
   "cell_type": "code",
   "execution_count": 6,
   "id": "2efd9b77",
   "metadata": {},
   "outputs": [
    {
     "name": "stdout",
     "output_type": "stream",
     "text": [
      "--------MENU--------\n",
      "1. Modalidade Computador\n",
      "2. Modalidade Utilizador\n"
     ]
    },
    {
     "ename": "ValueError",
     "evalue": "invalid literal for int() with base 10: ''",
     "output_type": "error",
     "traceback": [
      "\u001b[1;31m---------------------------------------------------------------------------\u001b[0m",
      "\u001b[1;31mValueError\u001b[0m                                Traceback (most recent call last)",
      "Cell \u001b[1;32mIn [6], line 7\u001b[0m\n\u001b[0;32m      4\u001b[0m \u001b[38;5;28mprint\u001b[39m(\u001b[38;5;124m\"\u001b[39m\u001b[38;5;124m1. Modalidade Computador\u001b[39m\u001b[38;5;124m\"\u001b[39m)\n\u001b[0;32m      5\u001b[0m \u001b[38;5;28mprint\u001b[39m(\u001b[38;5;124m\"\u001b[39m\u001b[38;5;124m2. Modalidade Utilizador\u001b[39m\u001b[38;5;124m\"\u001b[39m)\n\u001b[1;32m----> 7\u001b[0m opc_menu\u001b[38;5;241m=\u001b[39m\u001b[38;5;28mint\u001b[39m(\u001b[38;5;28minput\u001b[39m(\u001b[38;5;124m\"\u001b[39m\u001b[38;5;124minsira a modalidade\u001b[39m\u001b[38;5;124m\"\u001b[39m))\n\u001b[0;32m      8\u001b[0m num_tentativas\u001b[38;5;241m=\u001b[39m\u001b[38;5;241m0\u001b[39m\n\u001b[0;32m     10\u001b[0m \u001b[38;5;28;01mif\u001b[39;00m opc_menu \u001b[38;5;241m==\u001b[39m \u001b[38;5;241m1\u001b[39m:\n",
      "\u001b[1;31mValueError\u001b[0m: invalid literal for int() with base 10: ''"
     ]
    }
   ],
   "source": [
    "\n",
    "import random\n",
    "\n",
    "print(\"--------MENU--------\")\n",
    "print(\"1. Modalidade Computador\")\n",
    "print(\"2. Modalidade Utilizador\")\n",
    "\n",
    "opc_menu=int(input(\"insira a modalidade\"))\n",
    "num_tentativas=0\n",
    "\n",
    "if opc_menu == 1:\n",
    "    Num_do_pc = (random.randrange(1,101))\n",
    "    \n",
    "    print(\"adivinha o número\")\n",
    "    \n",
    "    Num_escolhido= int(input (\"insira um número\"))\n",
    "    \n",
    "    while(Num_escolhido!=Num_do_pc):\n",
    "        if(Num_escolhido > Num_do_pc):\n",
    "            print(\"O numero que pensei é menor. Tenta outra vez.\")\n",
    "            Num_escolhido = int(input())\n",
    "            \n",
    "        elif(Num_escolhido < Num_do_pc):\n",
    "            print(\"O numero que pensei é maior. Tenta outra vez.\")\n",
    "            Num_escolhido = int(input())\n",
    "        \n",
    "        num_tentativas = num_tentativas +1\n",
    "            \n",
    "    print(\"Numero encontrado\",Num_escolhido,\"com\",num_tentativas,\"tentativas\")\n",
    "    \n",
    "elif opc_menu == 2:\n",
    "    print(\"Pensa num número de 0 a 100\")\n",
    "    Num_do_utilizador = int(input())\n",
    "    Num_escolhido_pc = (random.randrange(1,101))\n",
    "    print(\"o computador escolheu o\", Num_escolhido_pc)\n",
    "    \n",
    "    while(Num_escolhido_pc!=Num_do_utilizador):\n",
    "        if(Num_escolhido_pc>Num_do_utilizador):\n",
    "            print(\"o número que o computador pensou é maior\")\n",
    "            Num_escolhido_pc= (random.randrange(1,Num_escolhido_pc))\n",
    "            print(\"Novo número escolhido\",Num_escolhido_pc)\n",
    "            \n",
    "        elif(Num_escolhido_pc<Num_do_utilizador):\n",
    "            print(\"o número que o computador pensou é menor\")\n",
    "            Num_escolhido_pc= (random.randrange(Num_escolhido_pc , 101))\n",
    "            print(\"Novo numero escolhido\",Num_escolhido_pc) \n",
    "        \n",
    "        num_tentativas = num_tentativas +1     \n",
    "                     \n",
    "    print(\"Número encontrado:\",Num_escolhido_pc,\",com\",num_tentativas,\"tentativas\")\n"
   ]
  }
 ],
 "metadata": {
  "kernelspec": {
   "display_name": "Python 3.10.7 64-bit",
   "language": "python",
   "name": "python3"
  },
  "language_info": {
   "codemirror_mode": {
    "name": "ipython",
    "version": 3
   },
   "file_extension": ".py",
   "mimetype": "text/x-python",
   "name": "python",
   "nbconvert_exporter": "python",
   "pygments_lexer": "ipython3",
   "version": "3.10.7"
  },
  "vscode": {
   "interpreter": {
    "hash": "df653aeecbf9c1d13bdbc3a51c2aa8264472cef0f2d1c83a4798c64fc2d3bb53"
   }
  }
 },
 "nbformat": 4,
 "nbformat_minor": 5
}
