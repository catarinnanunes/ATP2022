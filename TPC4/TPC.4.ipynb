{
 "cells": [
  {
   "cell_type": "markdown",
   "id": "4193a91b",
   "metadata": {},
   "source": [
    "### TPC4: Aplicação para Gerir um Cinema\n",
    "\n",
    "Suponha que está a desenvolver uma aplicacão para gestão de um conjunto de salas de cinema de um centro comercial. \n",
    "Nesse centro comercial existem algumas salas de cinema (que poderão estar a exibir filmes ou não), cada sala tem uma determinada \n",
    "lotação, uma lista com a referência dos bilhetes vendidos (lugares ocupados; cada lugar é identificado por um número inteiro), e cada sala tem um filme associado.\n",
    "\n",
    "Considera a seguinte sugestão para o modelo dos cinemas:\n",
    "```\n",
    "Cinema = [Sala]\n",
    "Sala = (nlugares, Vendidos, filme)\n",
    "nlugares = Int\n",
    "filme = String \n",
    "Vendidos = [Int]\n",
    "```\n",
    "  \n",
    "Que poderá ser usado num programa da seguinte forma:\n",
    "```\n",
    "sala1 = (150, [], \"Twilight\")\n",
    "sala2 = (200, [], \"Hannibal\")\n",
    "cinema1 = []\n",
    "...\n",
    "cinema1 = inserirSala(cinema1,sala1)\n",
    "cinema1 = inserirSala(cinema1,sala2)\n",
    "...\n",
    "listar(cinema1)\n",
    "...\n",
    "\n",
    "if(disponivel(cinema1, \"Twilight\", 17 )):\n",
    "  cinema1 = vendebilhete(cinema1, \"Twilight\", 17 )\n",
    "...\n",
    "listardisponibilidades(cinema1)\n",
    "...\n",
    "```\n",
    "\n",
    "Especifique as funções utilizadas no exemplo:\n"
   ]
  },
  {
   "cell_type": "markdown",
   "metadata": {},
   "source": [
    "1. `listar( cinema )` - que lista no monitor todos os filmes que estão em exibição nas salas do cinema passado como argumento;"
   ]
  },
  {
   "cell_type": "code",
   "execution_count": null,
   "metadata": {},
   "outputs": [],
   "source": [
    "#1\n",
    "\n",
    "def listar (cinema):\n",
    "    for i in cinema:\n",
    "        nlugares , vendidos , filme = i\n",
    "        print (filme)\n",
    "    return"
   ]
  },
  {
   "cell_type": "code",
   "execution_count": null,
   "metadata": {},
   "outputs": [],
   "source": [
    "cinema1= [(150, [20,30], 'minions') , (160, [2,38,42], 'smile')]\n",
    "\n",
    "listar(cinema1)"
   ]
  },
  {
   "cell_type": "markdown",
   "metadata": {},
   "source": [
    "2. `disponivel( cinema, filme, lugar )` - que dá como resultado **False** se o lugar lugar já estiver ocupado na sala onde o filme está a ser exibido e dará como resultado **True** se o inverso acontecer;"
   ]
  },
  {
   "cell_type": "code",
   "execution_count": null,
   "metadata": {},
   "outputs": [],
   "source": [
    "#2\n",
    "\n",
    "def disponivel(cinema, filme, lugar):\n",
    "    disp= True\n",
    "    for i in cinema:\n",
    "        nlugares , vendidos, filme= i\n",
    "        if lugar in vendidos:\n",
    "            disp= False\n",
    "    if disp== True:\n",
    "        print('Está disponível')\n",
    "    elif disp== False:\n",
    "        print ('Não está disponível')    \n",
    "    return"
   ]
  },
  {
   "cell_type": "code",
   "execution_count": null,
   "metadata": {},
   "outputs": [],
   "source": [
    "disponivel( [(150, [20,30], 'minions') , (160, [2,38,42], 'smile')] , 'smile' , 38 )"
   ]
  },
  {
   "cell_type": "markdown",
   "metadata": {},
   "source": [
    "3. `vendebilhete( cinema, filme, lugar )` - que dá como resultado um novo cinema resultante de acrescentar o lugar à lista dos lugares ocupados, na sala onde está a ser exibido o filme;"
   ]
  },
  {
   "cell_type": "code",
   "execution_count": null,
   "metadata": {},
   "outputs": [],
   "source": [
    "#3\n",
    "\n",
    "def vendebilhete(cinema, filme, lugar):\n",
    "    for sala in cinema:\n",
    "        nlugares , vendidos, filme1 = sala\n",
    "        if sala[2] == filme:\n",
    "            if lugar not in vendidos:\n",
    "                vendidos.append(lugar)\n",
    "                \n",
    "    return cinema\n",
    "            "
   ]
  },
  {
   "cell_type": "code",
   "execution_count": null,
   "metadata": {},
   "outputs": [],
   "source": [
    "vendebilhete( [(150, [20,30], 'minions') , (160, [2,38,42], 'smile')] , 'smile' , 4)"
   ]
  },
  {
   "cell_type": "markdown",
   "metadata": {},
   "source": [
    "4. `listardisponibilidades( cinema )` - que, para um dado cinema, lista no monitor para cada sala, o filme que está a ser exibido e o total de lugares disponíveis nessa sala (número de lugares na sala menos o número de lugares ocupados);"
   ]
  },
  {
   "cell_type": "code",
   "execution_count": null,
   "metadata": {},
   "outputs": [],
   "source": [
    "#4\n",
    "\n",
    "def listardisponibilidades(cinema):\n",
    "    for i in cinema:\n",
    "        nlugares , vendidos, filme= i\n",
    "        totaldisp = nlugares - len(vendidos)\n",
    "        print(filme ,'-' , 'número de lugares disponíveis:', totaldisp)\n",
    "    return"
   ]
  },
  {
   "cell_type": "code",
   "execution_count": null,
   "metadata": {},
   "outputs": [],
   "source": [
    "listardisponibilidades( [(150, [20,30], 'minions') , (160, [2,38,42], 'smile')] )"
   ]
  },
  {
   "cell_type": "markdown",
   "metadata": {},
   "source": [
    "5. `inserirSala( cinema, sala )` - que acrescenta uma sala nova a um cinema (devendo verificar se a sala já existe);"
   ]
  },
  {
   "cell_type": "code",
   "execution_count": null,
   "metadata": {},
   "outputs": [],
   "source": [
    "#5\n",
    "\n",
    "def inserirSala (cinema, sala):\n",
    "    \n",
    "    for i in cinema:\n",
    "        nlugares , vendidos, filme = i\n",
    "        if sala not in cinema:\n",
    "            cinema.append(sala)\n",
    "            \n",
    "    return cinema"
   ]
  },
  {
   "cell_type": "code",
   "execution_count": null,
   "metadata": {},
   "outputs": [],
   "source": [
    "inserirSala( [(150, [20,30], 'Minions') , (160, [2,38,42], 'Smile')] , (200, [40,41,42,43] , 'Jumanji') )"
   ]
  },
  {
   "cell_type": "markdown",
   "metadata": {},
   "source": [
    "6. Acrescente todas as outras funcionalidades que achar necessárias;"
   ]
  },
  {
   "cell_type": "code",
   "execution_count": null,
   "metadata": {},
   "outputs": [],
   "source": [
    "# função menu\n",
    "\n",
    "def menu():\n",
    "    \n",
    "    print ('------ GESTÃO DO CINEMA ------')\n",
    "    print('\\n')\n",
    "\n",
    "    print ('1- Ver filmes em exibição no cinema') \n",
    "    print ('2- Verificar se um lugar está ocupado na sala')\n",
    "    print ('3- Acrecentar lugar ocupado')\n",
    "    print ('4- Filmes em exibição e respetivo número de lugares disponíveis')\n",
    "    print ('5- Juntar nova sala')\n",
    "    print ('6- Terminar', flush= True)\n",
    "    \n",
    "    opcao= int(input('escolha uma opção'))\n",
    "    return opcao"
   ]
  },
  {
   "cell_type": "code",
   "execution_count": null,
   "metadata": {},
   "outputs": [],
   "source": [
    "# função para criar uma LISTA de filmes em exibição no cinema\n",
    " \n",
    "def buscarlistafilmes(cinema):\n",
    "    filmes=[]\n",
    "    for sala in cinema:\n",
    "        filmes.append(sala[2])\n",
    "    return filmes"
   ]
  },
  {
   "cell_type": "code",
   "execution_count": null,
   "metadata": {},
   "outputs": [],
   "source": [
    "buscarlistafilmes( [ (150, [20, 30], 'Minions') , (160, [2, 38, 42], 'Smile') , (200, [40, 41, 42, 43], 'Jumanji') ])"
   ]
  },
  {
   "cell_type": "markdown",
   "metadata": {},
   "source": [
    "7. À semelhança do exercício 3, construa uma aplicação com um menu de interface para as operações."
   ]
  },
  {
   "cell_type": "code",
   "execution_count": null,
   "metadata": {},
   "outputs": [],
   "source": [
    "opcao= -1\n",
    "cinema = [ (150, [20, 30], 'Minions') , (160, [2, 38, 42], 'Smile') , (200, [40, 41, 42, 43], 'Jumanji') ]\n",
    "    \n",
    "while opcao != 6:\n",
    "    opcao= menu()\n",
    "    print('\\n') \n",
    "    \n",
    "    if opcao == 1:\n",
    "        listar(cinema)\n",
    "    \n",
    "    if opcao==2:\n",
    "        filme= input('filme')\n",
    "        if filme in buscarlistafilmes(cinema):\n",
    "            lugar= int(input('lugar'))\n",
    "            print (disponivel(cinema, filme, lugar))\n",
    "                \n",
    "        else:\n",
    "            print('Este filme não está em exibição neste cinema')\n",
    "            \n",
    "    if opcao== 3:\n",
    "        filme= input('filme')\n",
    "        if filme in buscarlistafilmes(cinema):\n",
    "            lugar= int(input('número do lugar'))\n",
    "            print(vendebilhete(cinema, filme, lugar))\n",
    "            \n",
    "        else: \n",
    "            print('Este filme não está em exibição neste cinema')\n",
    "    \n",
    "    if opcao== 4:\n",
    "        print(listardisponibilidades(cinema))\n",
    "    \n",
    "    if opcao== 5:\n",
    "        nlugaresNOVO= int(input('lotação da sala'))\n",
    "        vendidosNOVO= []     # a nova sala é criada não tendo nenhum lugar ocupado\n",
    "        filmeNOVO= input('filme')\n",
    "        sala= (nlugaresNOVO, vendidosNOVO, filmeNOVO)\n",
    "        cinema= inserirSala(cinema, sala)\n",
    "        print (cinema)\n",
    "            \n",
    "if opcao == 6:\n",
    "    print('Terminado')        \n"
   ]
  }
 ],
 "metadata": {
  "kernelspec": {
   "display_name": "Python 3.10.7 64-bit",
   "language": "python",
   "name": "python3"
  },
  "language_info": {
   "codemirror_mode": {
    "name": "ipython",
    "version": 3
   },
   "file_extension": ".py",
   "mimetype": "text/x-python",
   "name": "python",
   "nbconvert_exporter": "python",
   "pygments_lexer": "ipython3",
   "version": "3.10.7"
  },
  "orig_nbformat": 4,
  "vscode": {
   "interpreter": {
    "hash": "df653aeecbf9c1d13bdbc3a51c2aa8264472cef0f2d1c83a4798c64fc2d3bb53"
   }
  }
 },
 "nbformat": 4,
 "nbformat_minor": 2
}
